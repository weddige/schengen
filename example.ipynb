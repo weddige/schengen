{
 "cells": [
  {
   "cell_type": "code",
   "execution_count": 1,
   "id": "96716017-d6df-472e-b496-1faa63828cdb",
   "metadata": {},
   "outputs": [],
   "source": [
    "from datetime import date\n",
    "from schengen import Visa"
   ]
  },
  {
   "cell_type": "code",
   "execution_count": 2,
   "id": "da8ea15b-8257-417b-8db9-1b4a1173d828",
   "metadata": {},
   "outputs": [
    {
     "data": {
      "text/plain": [
       "datetime.timedelta(days=9)"
      ]
     },
     "execution_count": 2,
     "metadata": {},
     "output_type": "execute_result"
    }
   ],
   "source": [
    "# Init visa\n",
    "visa = Visa(date(2020, 1, 1), date(2023, 1, 1))\n",
    "\n",
    "# Add trips\n",
    "visa.add_trip(date(2022, 1, 1), date(2022, 2, 1))\n",
    "visa.add_trip(date(2022, 3, 1), date(2022, 4, 1))\n",
    "visa.add_trip(date(2022, 4, 15), date(2022, 5, 1))\n",
    "\n",
    "# Evaluate remaining days\n",
    "visa.evaluate(date(2022, 5, 15))"
   ]
  },
  {
   "cell_type": "code",
   "execution_count": null,
   "id": "c968a062-03c4-433f-b528-53c82938fc7f",
   "metadata": {},
   "outputs": [],
   "source": []
  }
 ],
 "metadata": {
  "kernelspec": {
   "display_name": "Python 3",
   "language": "python",
   "name": "python3"
  },
  "language_info": {
   "codemirror_mode": {
    "name": "ipython",
    "version": 3
   },
   "file_extension": ".py",
   "mimetype": "text/x-python",
   "name": "python",
   "nbconvert_exporter": "python",
   "pygments_lexer": "ipython3",
   "version": "3.9.10"
  }
 },
 "nbformat": 4,
 "nbformat_minor": 5
}
